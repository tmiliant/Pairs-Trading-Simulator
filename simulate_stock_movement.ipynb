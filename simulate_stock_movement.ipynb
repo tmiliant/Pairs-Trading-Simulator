{
 "cells": [
  {
   "cell_type": "code",
   "execution_count": 16,
   "metadata": {},
   "outputs": [],
   "source": [
    "import numpy as np\n",
    "import math\n",
    "\n",
    "def build_stocks(corr, mu, sigma, num_points):\n",
    "    '''\n",
    "    Builds two stocks with correlation corr by using two independent\n",
    "    normal variables of mean mu and standard deviation sigma.\n",
    "    This way, the google stock will track the etf that is relevant to the tech market.\n",
    "    '''\n",
    "    s2 = np.random.normal(mu, sigma, num_points)\n",
    " \n",
    "    #Simulate Google stock, centered at 15 but given a slight upward trend.\n",
    "    google_stock = 15 + np.random.normal(mu, sigma, num_points) + 0.3*np.linspace(1, num_points, num_points)\n",
    "    #Simulate ETF, centered at 16 but we add another normal to it and another slight upward trend.\n",
    "    faang_etf = 16 + corr * google_stock + math.sqrt(1 - corr**2) * s2 + 0.2*np.linspace(1, num_points, num_points)\n",
    "    \n",
    "    return (google_stock, faang_etf)"
   ]
  },
  {
   "cell_type": "code",
   "execution_count": null,
   "metadata": {},
   "outputs": [],
   "source": []
  },
  {
   "cell_type": "code",
   "execution_count": null,
   "metadata": {},
   "outputs": [],
   "source": []
  }
 ],
 "metadata": {
  "kernelspec": {
   "display_name": "Python 3",
   "language": "python",
   "name": "python3"
  },
  "language_info": {
   "codemirror_mode": {
    "name": "ipython",
    "version": 3
   },
   "file_extension": ".py",
   "mimetype": "text/x-python",
   "name": "python",
   "nbconvert_exporter": "python",
   "pygments_lexer": "ipython3",
   "version": "3.8.5"
  }
 },
 "nbformat": 4,
 "nbformat_minor": 4
}
